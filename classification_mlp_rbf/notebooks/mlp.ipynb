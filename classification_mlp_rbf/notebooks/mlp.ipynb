{
 "cells": [
  {
   "cell_type": "markdown",
   "metadata": {},
   "source": [
    "# 1- Implementation a Neural Network\n",
    "In this problem you should train an artificial neural network (MLP and RBF) for classification of the given dataset.<br>\n",
    "you should fill the missing sections to complete your neural network implementation.<br>\n",
    "in this exercise you will:\n",
    "- Tune the learning rate and regularization weight\n",
    "- Implement the loss function for MLP\n",
    "- Implement the forward pass and backward pass \n",
    "- visualize the train and validation accuracy versuse iteration\n",
    "- visualize the weights neurons"
   ]
  },
  {
   "cell_type": "code",
   "execution_count": null,
   "metadata": {},
   "outputs": [],
   "source": [
    "# initialization\n",
    "\n",
    "import numpy as np\n",
    "import matplotlib.pyplot as plt\n",
    "\n",
    "from neural_net import MLPNet\n",
    "\n",
    "%matplotlib inline\n",
    "plt.rcParams['figure.figsize'] = (10.0, 8.0) # set default size of plots\n",
    "plt.rcParams['image.interpolation'] = 'nearest'\n",
    "plt.rcParams['image.cmap'] = 'gray'\n",
    "\n",
    "# for auto-reloading external modules\n",
    "%load_ext autoreload\n",
    "%autoreload 2\n",
    "\n",
    "def rel_error(x, y):\n",
    "  return np.max(np.abs(x - y) / (np.maximum(1e-8, np.abs(x) + np.abs(y))))"
   ]
  },
  {
   "cell_type": "markdown",
   "metadata": {},
   "source": [
    "## 1-1-1 Create a toy dataset\n",
    "In this section we create a toy dataset containing 5 samples with 5 features.\n",
    "The network has 6 neurons in the hidden layer and there are 3 classes in the output.\n",
    "MLPNet class in the file neural_net.py will be used to instantiate our network . We use toy dataset with small size to check your implementaion and to see what happens to network weights during training."
   ]
  },
  {
   "cell_type": "code",
   "execution_count": 2,
   "metadata": {},
   "outputs": [],
   "source": [
    "# Create our network and toy dataset\n",
    "\n",
    "features = 5\n",
    "hidden_size = 6\n",
    "classes = 3\n",
    "inputs = 5\n",
    "np.random.seed(0)\n",
    "\n",
    "net = MLPNet(features, hidden_size, classes, std=1e-1)\n",
    "X = 10 * np.random.randn(inputs, features)\n",
    "y = np.array([1, 0, 0, 2, 1])"
   ]
  },
  {
   "cell_type": "markdown",
   "metadata": {},
   "source": [
    "## 1-1-2- Forward pass\n",
    "To run the following section, you should complete the loss function in the neural_net.py to compute scores . The output is a 5*3 matrix that contains the class score for each sample."
   ]
  },
  {
   "cell_type": "code",
   "execution_count": 3,
   "metadata": {},
   "outputs": [
    {
     "name": "stdout",
     "output_type": "stream",
     "text": [
      "Your scores:\n",
      " [[-0.          0.0200569  -0.        ]\n",
      " [-0.          0.06109767 -0.        ]\n",
      " [-0.          0.03057286 -0.        ]\n",
      " [-0.          0.00847019 -0.        ]\n",
      " [-0.          0.08251664 -0.        ]]\n"
     ]
    }
   ],
   "source": [
    "scores = net.loss(X)\n",
    "print ('Your scores:\\n',scores)"
   ]
  },
  {
   "cell_type": "markdown",
   "metadata": {},
   "source": [
    "## 1-1-3- Forward pass\n",
    "Now you should complete the second missing part in loss function in the neural_net.py , the output shows the loss of your network"
   ]
  },
  {
   "cell_type": "code",
   "execution_count": 4,
   "metadata": {},
   "outputs": [
    {
     "name": "stdout",
     "output_type": "stream",
     "text": [
      "your network loss is: 4.868481579407079\n"
     ]
    }
   ],
   "source": [
    "loss, _ = net.loss(X, y, reg=0.1)\n",
    "print(\"your network loss is:\",loss)"
   ]
  },
  {
   "cell_type": "markdown",
   "metadata": {},
   "source": [
    "## 1-1-4- Backward pass\n",
    "compute the gradient according to weights and biases. "
   ]
  },
  {
   "cell_type": "code",
   "execution_count": 5,
   "metadata": {},
   "outputs": [
    {
     "name": "stdout",
     "output_type": "stream",
     "text": [
      "grads of W1\n",
      " [[ 6.28066204e-02  8.00314417e-03  1.95747597e-02 -3.15038766e-02\n",
      "   1.79343580e-01 -1.01928602e-01]\n",
      " [ 5.41770902e-02 -3.02714417e-03 -3.08281541e-03 -8.93206676e-02\n",
      "   1.84335005e-01 -5.33535305e-02]\n",
      " [ 4.77777520e-02  2.43350033e-03  8.56777207e-03 -8.35991725e-02\n",
      "   1.97828922e-01 -1.12485357e-01]\n",
      " [ 7.09066820e-02 -1.70819148e-02 -5.10597963e-02 -1.66173447e-01\n",
      "   3.50765758e-01 -1.08649453e-01]\n",
      " [ 8.42996223e-02 -2.90873135e-02  2.49652638e-04 -1.11616504e-01\n",
      "   2.31347074e-01 -8.04878953e-02]]\n",
      "grads of b1\n",
      " [ 0.06796661  0.         -0.00101844 -0.18845493  0.35061008 -0.10622646]\n",
      "grads of W2\n",
      " [[ 0.00309895  0.57688308 -0.01775571]\n",
      " [-0.03961593 -0.00695824  0.00312698]\n",
      " [ 0.02460581  0.02399545 -0.00774654]\n",
      " [-0.00604606  0.30153401 -0.02840036]\n",
      " [-0.0341254   0.62243908 -0.01019304]\n",
      " [-0.00876149  0.06192436  0.01554981]]\n",
      "grads of b2\n",
      " [0.         1.79728574 0.        ]\n"
     ]
    }
   ],
   "source": [
    "loss, grads = net.loss(X, y, reg=0.1)\n",
    "print('grads of W1\\n',grads['W1'])\n",
    "print('grads of b1\\n',grads['b1'])\n",
    "print('grads of W2\\n',grads['W2'])\n",
    "print('grads of b2\\n',grads['b2'])"
   ]
  },
  {
   "cell_type": "markdown",
   "metadata": {
    "collapsed": true
   },
   "source": [
    "## 1-1-5- Train the network\n",
    "Fill the missing section in train and predict function of MLPNet class . After you correctly implement those function you build a two layer neural network that can feed data to it. The result of the following section shows Final training loss of your network and training loss versus iteration ."
   ]
  },
  {
   "cell_type": "code",
   "execution_count": 6,
   "metadata": {},
   "outputs": [
    {
     "name": "stdout",
     "output_type": "stream",
     "text": [
      "iteration 0 / 100: loss 4.817172\n",
      "Final training loss:  4.559049398118488\n"
     ]
    },
    {
     "data": {
      "image/png": "[encoded data removed]",
      "text/plain": [
       "<Figure size 432x288 with 1 Axes>"
      ]
     },
     "metadata": {
      "needs_background": "light"
     },
     "output_type": "display_data"
    }
   ],
   "source": [
    "net = MLPNet(features, hidden_size, classes, std=1e-1)\n",
    "stats = net.train(X, y, X, y,\n",
    "            alpha=1e-3, reg=1e-5,\n",
    "            num_iters=100)\n",
    "\n",
    "print ('Final training loss: ', stats['loss_train'][-1])\n",
    "\n",
    "# plot the loss history\n",
    "plt.plot(stats['loss_train'])\n",
    "plt.xlabel('iteration')\n",
    "plt.ylabel('training loss')\n",
    "plt.title('Training Loss history')\n",
    "plt.show()"
   ]
  },
  {
   "cell_type": "markdown",
   "metadata": {},
   "source": [
    "## 1-1-6- Load Cancer Diagnosis dataset\n",
    "In this section we use a real dataset.change root variable in dataloader.py to your dataset path."
   ]
  },
  {
   "cell_type": "code",
   "execution_count": 7,
   "metadata": {},
   "outputs": [
    {
     "name": "stdout",
     "output_type": "stream",
     "text": [
      "Train data shape:  (200, 1970)\n",
      "Train labels shape:  (200,)\n",
      "Validation data shape:  (45, 1970)\n",
      "Validation labels shape:  (45,)\n",
      "Test data shape:  (40, 1970)\n",
      "Test labels shape:  (40,)\n"
     ]
    }
   ],
   "source": [
    "from dataloader import select_features\n",
    "import numpy as np\n",
    "import os\n",
    "from scipy.misc import imread\n",
    "import matplotlib.pyplot as plt\n",
    "import matplotlib\n",
    "val_num = 45\n",
    "train_num = 200\n",
    "test_num = 40\n",
    "train_data, train_labels, test_data, test_labels,\\\n",
    "    class_names, n_train, n_test, n_class, n_features = select_features()\n",
    "\n",
    "\n",
    "# Subsample the data\n",
    "mask = range(train_num, n_train)\n",
    "X_val = train_data[mask]\n",
    "y_val = train_labels[mask]\n",
    "mask = range(train_num)\n",
    "X_train = train_data[mask]\n",
    "y_train = train_labels[mask]\n",
    "mask = range(test_num)\n",
    "X_test = test_data[mask]\n",
    "y_test = test_labels[mask]\n",
    "\n",
    "print ('Train data shape: ', X_train.shape)\n",
    "print ('Train labels shape: ', y_train.shape)\n",
    "print ('Validation data shape: ', X_val.shape)\n",
    "print ('Validation labels shape: ', y_val.shape)\n",
    "print ('Test data shape: ', X_test.shape)\n",
    "print ('Test labels shape: ', y_test.shape)"
   ]
  },
  {
   "cell_type": "markdown",
   "metadata": {},
   "source": [
    "## 1-1-7- Train \n",
    "For training our neural network we will use SGD(Stochastic Gradient descent).The loss of your network must decrease during epochs."
   ]
  },
  {
   "cell_type": "code",
   "execution_count": 16,
   "metadata": {},
   "outputs": [
    {
     "name": "stdout",
     "output_type": "stream",
     "text": [
      "1970\n",
      "iteration 0 / 1000: loss 52.649400\n",
      "iteration 100 / 1000: loss 41.302614\n",
      "iteration 200 / 1000: loss 39.476337\n",
      "iteration 300 / 1000: loss 40.183191\n",
      "iteration 400 / 1000: loss 37.777599\n",
      "iteration 500 / 1000: loss 39.324688\n",
      "iteration 600 / 1000: loss 39.432581\n",
      "iteration 700 / 1000: loss 39.961054\n",
      "iteration 800 / 1000: loss 39.129032\n",
      "iteration 900 / 1000: loss 38.728153\n",
      "Validation accuracy:  0.37777777777777777\n"
     ]
    }
   ],
   "source": [
    "input_size = n_features\n",
    "print(input_size)\n",
    "hidden_size = 50\n",
    "num_classes = 7\n",
    "net = MLPNet(input_size, hidden_size, num_classes,std=1e-2)\n",
    "\n",
    "# Train the network\n",
    "stats = net.train(X_train, y_train, X_val, y_val,\n",
    "            num_iters=1000, batch_size=50,\n",
    "            alpha=1e-3, alpha_decay=0.95,\n",
    "            reg=0.3)\n",
    "\n",
    "# Predict on the validation set\n",
    "val_acc = (net.predict(X_val) == y_val).mean()\n",
    "print ('Validation accuracy: ', val_acc)\n"
   ]
  },
  {
   "cell_type": "markdown",
   "metadata": {},
   "source": [
    "the below plots show loss during epochs and training and validatino accuracy versus epochs. The loss should decreas over time. ***according to second plot what is the best iteration number to terminate training?***"
   ]
  },
  {
   "cell_type": "code",
   "execution_count": 17,
   "metadata": {},
   "outputs": [
    {
     "data": {
      "image/png": "[encoded data removed]",
      "text/plain": [
       "<Figure size 432x288 with 1 Axes>"
      ]
     },
     "metadata": {
      "needs_background": "light"
     },
     "output_type": "display_data"
    },
    {
     "data": {
      "image/png": "[encoded data removed]",
      "text/plain": [
       "<Figure size 432x288 with 1 Axes>"
      ]
     },
     "metadata": {
      "needs_background": "light"
     },
     "output_type": "display_data"
    }
   ],
   "source": [
    "# Plot the loss function and train / validation accuracies\n",
    "plt.plot(stats['loss_train'])\n",
    "plt.title('Loss')\n",
    "plt.xlabel('Iteration')\n",
    "plt.ylabel('Loss')\n",
    "plt.show()\n",
    "\n",
    "plt.plot(stats['train_acc'], label='train')\n",
    "plt.plot(stats['val_acc'], label='val')\n",
    "plt.title('Classification accuracy ')\n",
    "plt.xlabel('Epoch')\n",
    "plt.ylabel('Accuracy')\n",
    "plt.legend()\n",
    "plt.show()\n"
   ]
  },
  {
   "cell_type": "markdown",
   "metadata": {},
   "source": [
    "## 1-1-8- Tune network's hyperparameters\n",
    "As you know hidden layer size, learning rate and weight regularization are important in developing a neural network so you should tune them and get a better result and report the best hyperparameters."
   ]
  },
  {
   "cell_type": "code",
   "execution_count": null,
   "metadata": {},
   "outputs": [],
   "source": [
    "stats = net.train(X_train, y_train, X_val, y_val,\n",
    "            num_iters=30000, batch_size=50,\n",
    "            alpha=1e-4, alpha_decay=0.95,\n",
    "            reg=0.5)\n",
    "\n",
    "best_net = None # store the best model into this \n",
    "#################################################################################\n",
    "# Tune hyperparameters with validation set and store your best model in best_net#\n",
    "#################################################################################\n",
    "pass\n",
    "#################################################################################\n",
    "#                                END OF YOUR CODE                               #\n",
    "#################################################################################\n"
   ]
  },
  {
   "cell_type": "markdown",
   "metadata": {},
   "source": [
    "## 1-1-9- Test\n",
    "Now you find the best hyperparameters, Let's test your network on test dataset and evaluate your accuracy.\n",
    "**our baseline is 10% and for each 1% you get 1 extra bonus point**"
   ]
  },
  {
   "cell_type": "code",
   "execution_count": 13,
   "metadata": {},
   "outputs": [
    {
     "ename": "NameError",
     "evalue": "name 'best_net' is not defined",
     "traceback": [
      "\u001b[0;31m---------------------------------------------------------------------------\u001b[0m",
      "\u001b[0;31mNameError\u001b[0m                                 Traceback (most recent call last)",
      "\u001b[0;32m<ipython-input-13-28da72de7255>\u001b[0m in \u001b[0;36m<module>\u001b[0;34m()\u001b[0m\n\u001b[0;32m----> 1\u001b[0;31m \u001b[0mtest_acc\u001b[0m \u001b[0;34m=\u001b[0m \u001b[0;34m(\u001b[0m\u001b[0mbest_net\u001b[0m\u001b[0;34m.\u001b[0m\u001b[0mpredict\u001b[0m\u001b[0;34m(\u001b[0m\u001b[0mX_test\u001b[0m\u001b[0;34m)\u001b[0m \u001b[0;34m==\u001b[0m \u001b[0my_test\u001b[0m\u001b[0;34m)\u001b[0m\u001b[0;34m.\u001b[0m\u001b[0mmean\u001b[0m\u001b[0;34m(\u001b[0m\u001b[0;34m)\u001b[0m\u001b[0;34m\u001b[0m\u001b[0m\n\u001b[0m\u001b[1;32m      2\u001b[0m \u001b[0mprint\u001b[0m \u001b[0;34m(\u001b[0m\u001b[0;34m'Test accuracy: '\u001b[0m\u001b[0;34m,\u001b[0m \u001b[0mtest_acc\u001b[0m\u001b[0;34m)\u001b[0m\u001b[0;34m\u001b[0m\u001b[0m\n",
      "\u001b[0;31mNameError\u001b[0m: name 'best_net' is not defined"
     ],
     "output_type": "error"
    }
   ],
   "source": [
    "test_acc = (best_net.predict(X_test) == y_test).mean()\n",
    "print ('Test accuracy: ', test_acc)"
   ]
  },
  {
   "cell_type": "markdown",
   "metadata": {},
   "source": [
    "## 1-2-1- Scikit-learn without normalization\n",
    "In this section you become familiar with Scikit-learn and implement an MLP network with that. Find the best parameters for best accuracy"
   ]
  },
  {
   "cell_type": "code",
   "execution_count": null,
   "metadata": {},
   "outputs": [],
   "source": [
    "import numpy as np\n",
    "from sklearn.neural_network import MLPClassifier\n"
   ]
  },
  {
   "cell_type": "markdown",
   "metadata": {},
   "source": [
    "## 1-2-2- Test acc\n",
    "test your network with test dataset and report accuracy"
   ]
  },
  {
   "cell_type": "code",
   "execution_count": null,
   "metadata": {},
   "outputs": [],
   "source": []
  },
  {
   "cell_type": "markdown",
   "metadata": {},
   "source": [
    "## 1-2-3- Scikit-learn with normalization\n",
    "In this section we use previous code with just one change. befor you feed data to network normalized them . "
   ]
  },
  {
   "cell_type": "code",
   "execution_count": null,
   "metadata": {},
   "outputs": [],
   "source": []
  },
  {
   "cell_type": "markdown",
   "metadata": {},
   "source": [
    "## 1-2-4- Test accuracy\n",
    "Test again your network with test dataset.Do you see any progress in test accuracy against result of prevouis section?"
   ]
  },
  {
   "cell_type": "code",
   "execution_count": null,
   "metadata": {},
   "outputs": [],
   "source": []
  }
 ],
 "metadata": {
  "kernelspec": {
   "display_name": "Python 3",
   "language": "python",
   "name": "python3"
  },
  "language_info": {
   "codemirror_mode": {
    "name": "ipython",
    "version": 3
   },
   "file_extension": ".py",
   "mimetype": "text/x-python",
   "name": "python",
   "nbconvert_exporter": "python",
   "pygments_lexer": "ipython3",
   "version": "3.7.0"
  }
 },
 "nbformat": 4,
 "nbformat_minor": 2
}
